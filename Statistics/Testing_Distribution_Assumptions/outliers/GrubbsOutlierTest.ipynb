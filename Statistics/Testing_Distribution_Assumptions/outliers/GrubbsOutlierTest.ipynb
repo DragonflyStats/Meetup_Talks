{
 "cells": [
  {
   "cell_type": "markdown",
   "metadata": {
    "collapsed": true
   },
   "source": [
    "### Grubbs' Test for Determining an Outlier\n",
    "\n",
    "The Grubbs' test is used to determine if there are any outliers in a data set.\n",
    "\n",
    "There is no agreed formal definition for an outlier. \n",
    "\n",
    "The definition of outlier used for this procedure is a value that unusually distant from the rest of the values. \n",
    "\n",
    "For the sake of clarity , we shall call this type of outlier a ***Grubbs' Outlier***. \n",
    "\n",
    "Consider the following data set: is the lowest value 4.01 an outlier?\n",
    "\n",
    "        6.98 8.49 7.97 6.64\n",
    "        8.80 8.48 5.94 6.94\n",
    "        6.89 7.47 7.32 4.01\n"
   ]
  },
  {
   "cell_type": "code",
   "execution_count": 1,
   "metadata": {
    "collapsed": true
   },
   "outputs": [],
   "source": [
    "x <-  c(6.98, 8.49, 7.97, 6.64,\n",
    "        8.80, 8.48, 5.94 ,6.94,\n",
    "        6.89, 7.47, 7.32 ,4.01)\n",
    "\n",
    "library(outliers)\n",
    "\n",
    "# Author: Lukasz Komsta ( umlub.pl )"
   ]
  },
  {
   "cell_type": "code",
   "execution_count": 2,
   "metadata": {},
   "outputs": [
    {
     "data": {
      "text/plain": [
       "\n",
       "\tGrubbs test for one outlier\n",
       "\n",
       "data:  x\n",
       "G = 2.40930, U = 0.42434, p-value = 0.05069\n",
       "alternative hypothesis: lowest value 4.01 is an outlier\n"
      ]
     },
     "metadata": {},
     "output_type": "display_data"
    }
   ],
   "source": [
    "grubbs.test(x, two.sided=TRUE)\n"
   ]
  },
  {
   "cell_type": "code",
   "execution_count": 3,
   "metadata": {},
   "outputs": [
    {
     "data": {
      "text/plain": [
       "\n",
       "\tGrubbs test for one outlier\n",
       "\n",
       "data:  x\n",
       "G = 2.40930, U = 0.42434, p-value = 0.02534\n",
       "alternative hypothesis: lowest value 4.01 is an outlier\n"
      ]
     },
     "metadata": {},
     "output_type": "display_data"
    }
   ],
   "source": [
    "grubbs.test(x)\n"
   ]
  },
  {
   "cell_type": "markdown",
   "metadata": {},
   "source": [
    "``Type 10`` is a test for one outlier (side is detected automatically and can be reversed by opposite parameter).\n"
   ]
  },
  {
   "cell_type": "code",
   "execution_count": 6,
   "metadata": {},
   "outputs": [
    {
     "data": {
      "text/plain": [
       "\n",
       "\tGrubbs test for one outlier\n",
       "\n",
       "data:  x\n",
       "G = 2.40930, U = 0.42434, p-value = 0.02534\n",
       "alternative hypothesis: lowest value 4.01 is an outlier\n"
      ]
     },
     "metadata": {},
     "output_type": "display_data"
    }
   ],
   "source": [
    "grubbs.test(x, type = 10) #Default\n"
   ]
  },
  {
   "cell_type": "markdown",
   "metadata": {},
   "source": [
    "``Type 11`` is a test for two outliers on opposite tails. \n"
   ]
  },
  {
   "cell_type": "code",
   "execution_count": 7,
   "metadata": {},
   "outputs": [
    {
     "data": {
      "text/plain": [
       "\n",
       "\tGrubbs test for two opposite outliers\n",
       "\n",
       "data:  x\n",
       "G = 3.66260, U = 0.31735, p-value = 0.1793\n",
       "alternative hypothesis: 4.01 and 8.8 are outliers\n"
      ]
     },
     "metadata": {},
     "output_type": "display_data"
    }
   ],
   "source": [
    "grubbs.test(x, type = 11) \n"
   ]
  },
  {
   "cell_type": "markdown",
   "metadata": {},
   "source": [
    "``Type 20`` is test for two outliers in one tail."
   ]
  },
  {
   "cell_type": "code",
   "execution_count": 12,
   "metadata": {},
   "outputs": [
    {
     "data": {
      "text/plain": [
       "\n",
       "\tGrubbs test for two outliers\n",
       "\n",
       "data:  x\n",
       "U = 0.29151, p-value = 0.04466\n",
       "alternative hypothesis: lowest values 4.01 , 5.94 are outliers\n"
      ]
     },
     "metadata": {},
     "output_type": "display_data"
    }
   ],
   "source": [
    "grubbs.test(x, type = 20) \n"
   ]
  },
  {
   "cell_type": "code",
   "execution_count": null,
   "metadata": {
    "collapsed": true
   },
   "outputs": [],
   "source": []
  }
 ],
 "metadata": {
  "kernelspec": {
   "display_name": "R",
   "language": "R",
   "name": "r"
  },
  "language_info": {
   "codemirror_mode": "r",
   "file_extension": ".r",
   "mimetype": "text/x-r-source",
   "name": "R",
   "pygments_lexer": "r",
   "version": "3.4.1"
  }
 },
 "nbformat": 4,
 "nbformat_minor": 2
}
