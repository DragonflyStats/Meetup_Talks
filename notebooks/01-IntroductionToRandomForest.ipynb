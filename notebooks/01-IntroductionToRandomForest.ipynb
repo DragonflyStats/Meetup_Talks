{
 "cells": [
  {
   "cell_type": "markdown",
   "metadata": {
    "collapsed": true
   },
   "source": [
    "RandomForest\n",
    "==============="
   ]
  },
  {
   "cell_type": "markdown",
   "metadata": {},
   "source": [
    "Random forests are an ensemble learning method for classification (and regression) that operate by constructing a multitude of decision trees at training time and outputting the class that is the mode of the classes output by individual trees.\n",
    "\n",
    "The algorithm for inducing a random forest was developed by Leo Breiman and Adele Cutler, and \"Random Forests\" is their trademark. The term came from random decision forests that was first proposed by Tin Kam Ho of Bell Labs in 1995. \n",
    " \n",
    "The method combines Breiman's \"bagging\" idea and the random selection of features, introduced independently by Ho and Amit and Geman in order to construct a collection of decision trees with controlled variance.\n"
   ]
  },
  {
   "cell_type": "code",
   "execution_count": 12,
   "metadata": {},
   "outputs": [],
   "source": [
    "library(randomForest)"
   ]
  },
  {
   "cell_type": "code",
   "execution_count": 13,
   "metadata": {},
   "outputs": [],
   "source": [
    "# download Titanic Survivors data\n",
    "data <- read.table(\"http://math.ucdenver.edu/RTutorial/titanic.txt\", h=T, sep=\"\\t\")\n",
    "# make survived into a yes/no\n",
    "data$Survived <- as.factor(ifelse(data$Survived==1, \"yes\", \"no\"))                 \n",
    " "
   ]
  },
  {
   "cell_type": "code",
   "execution_count": 18,
   "metadata": {},
   "outputs": [],
   "source": [
    "# runif(nrow(data)) <= 0.75"
   ]
  },
  {
   "cell_type": "code",
   "execution_count": 14,
   "metadata": {},
   "outputs": [],
   "source": [
    "# split into a training and test set\n",
    "# Handy little trick when you dont want to load up additional packages like caret\n",
    "\n",
    "idx <- runif(nrow(data)) <= 0.75\n",
    "\n"
   ]
  },
  {
   "cell_type": "code",
   "execution_count": 15,
   "metadata": {},
   "outputs": [],
   "source": [
    "\n",
    "\n",
    "\n",
    "\n",
    "data.train <- data[idx,]\n",
    "data.test <- data[-idx,]\n"
   ]
  },
  {
   "cell_type": "code",
   "execution_count": 11,
   "metadata": {},
   "outputs": [],
   "source": [
    "### Train a random forest\n",
    "\n",
    "rf <- randomForest(Survived ~ PClass + Age + Sex, \n",
    "             data=data.train, importance=TRUE, na.action=na.omit)\n",
    "\n"
   ]
  },
  {
   "cell_type": "code",
   "execution_count": 5,
   "metadata": {},
   "outputs": [
    {
     "data": {
      "text/html": [
       "<table>\n",
       "<thead><tr><th></th><th scope=col>no</th><th scope=col>yes</th><th scope=col>MeanDecreaseAccuracy</th><th scope=col>MeanDecreaseGini</th></tr></thead>\n",
       "<tbody>\n",
       "\t<tr><th scope=row>Sex</th><td>48.36676</td><td>52.74725</td><td>53.18470</td><td>73.45010</td></tr>\n",
       "\t<tr><th scope=row>PClass</th><td>22.62161</td><td>21.91741</td><td>25.86533</td><td>22.85662</td></tr>\n",
       "\t<tr><th scope=row>Age</th><td>22.08949</td><td>14.09322</td><td>25.24734</td><td>19.97112</td></tr>\n",
       "</tbody>\n",
       "</table>\n"
      ],
      "text/latex": [
       "\\begin{tabular}{r|llll}\n",
       "  & no & yes & MeanDecreaseAccuracy & MeanDecreaseGini\\\\\n",
       "\\hline\n",
       "\tSex & 48.36676 & 52.74725 & 53.18470 & 73.45010\\\\\n",
       "\tPClass & 22.62161 & 21.91741 & 25.86533 & 22.85662\\\\\n",
       "\tAge & 22.08949 & 14.09322 & 25.24734 & 19.97112\\\\\n",
       "\\end{tabular}\n"
      ],
      "text/markdown": [
       "\n",
       "| <!--/--> | no | yes | MeanDecreaseAccuracy | MeanDecreaseGini | \n",
       "|---|---|---|\n",
       "| Sex | 48.36676 | 52.74725 | 53.18470 | 73.45010 | \n",
       "| PClass | 22.62161 | 21.91741 | 25.86533 | 22.85662 | \n",
       "| Age | 22.08949 | 14.09322 | 25.24734 | 19.97112 | \n",
       "\n",
       "\n"
      ],
      "text/plain": [
       "       no       yes      MeanDecreaseAccuracy MeanDecreaseGini\n",
       "Sex    48.36676 52.74725 53.18470             73.45010        \n",
       "PClass 22.62161 21.91741 25.86533             22.85662        \n",
       "Age    22.08949 14.09322 25.24734             19.97112        "
      ]
     },
     "metadata": {},
     "output_type": "display_data"
    }
   ],
   "source": [
    "### How important is each variable in the model?\n",
    "imp <- importance(rf)\n",
    "o <- order(imp[,3], decreasing=T)\n",
    "imp[o,]\n"
   ]
  },
  {
   "cell_type": "markdown",
   "metadata": {},
   "source": [
    "### Display the confusion matrix\n",
    "\n"
   ]
  },
  {
   "cell_type": "code",
   "execution_count": 6,
   "metadata": {},
   "outputs": [
    {
     "data": {
      "text/plain": [
       "      predicted\n",
       "actual  no yes\n",
       "   no  422  21\n",
       "   yes 112 200"
      ]
     },
     "metadata": {},
     "output_type": "display_data"
    }
   ],
   "source": [
    "# confusion matrix [[True Neg, False Pos], [False Neg, True Pos]]\n",
    "table(data.test$Survived, predict(rf, data.test),\n",
    "  dnn=list(\"actual\", \"predicted\"))\n",
    "#      predicted\n",
    "#actual  no yes\n",
    "#   no  427  16\n",
    "#   yes 117 195"
   ]
  },
  {
   "cell_type": "code",
   "execution_count": null,
   "metadata": {},
   "outputs": [],
   "source": []
  }
 ],
 "metadata": {
  "kernelspec": {
   "display_name": "R",
   "language": "R",
   "name": "r"
  },
  "language_info": {
   "codemirror_mode": "r",
   "file_extension": ".r",
   "mimetype": "text/x-r-source",
   "name": "R",
   "pygments_lexer": "r",
   "version": "3.4.1"
  }
 },
 "nbformat": 4,
 "nbformat_minor": 2
}
