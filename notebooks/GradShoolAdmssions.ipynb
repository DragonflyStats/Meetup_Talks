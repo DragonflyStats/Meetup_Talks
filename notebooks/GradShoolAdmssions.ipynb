{
 "cells": [
  {
   "cell_type": "markdown",
   "metadata": {},
   "source": [
    "Binary Logistic Regression 0 Graduate School Example\n",
    "================================================\n",
    "#### Description of the data\n",
    "For this analysis below, we are going to consider the factors for being accepted into graduate\n",
    "school.\n",
    "    \n",
    "A researcher is interested in how variables, such as GRE (Graduate Record Exam\n",
    "scores), GPA (grade point average) and prestige of the undergraduate institution,\n",
    "effect admission into graduate school. The response variable, admit/don't admit,\n",
    "is a binary variable.\n"
   ]
  },
  {
   "cell_type": "code",
   "execution_count": null,
   "metadata": {
    "collapsed": true
   },
   "outputs": [],
   "source": [
    "mydata <- read.csv(\"binary.csv\")\n",
    "## view the first few rows of the data\n",
    "head(mydata)\n",
    "## admit gre gpa rank\n",
    "## 1 0 380 3.61 3\n",
    "## 2 1 660 3.67 3\n",
    "## 3 1 800 4.00 1\n",
    "## 4 1 640 3.19 4\n",
    "## 5 0 520 2.93 4\n",
    "## 6 1 760 3.00 2"
   ]
  },
  {
   "cell_type": "markdown",
   "metadata": {},
   "source": [
    "* This dataset has a binary response (outcome, dependent) variable called admit. There\n",
    "are three predictor variables: gre, gpa and rank.\n",
    "* We will treat the variables gre and gpa as continuous. The variable rank takes on the\n",
    "values 1 through 4.\n",
    "* Institutions with a rank of 1 have the highest prestige, while those with a rank of 4\n",
    "have the lowest.\n",
    "* We can get basic descriptives for the entire data set by using summary.\n"
   ]
  },
  {
   "cell_type": "code",
   "execution_count": null,
   "metadata": {
    "collapsed": true
   },
   "outputs": [],
   "source": [
    "summary(mydata)\n",
    "\n",
    "\n"
   ]
  },
  {
   "cell_type": "markdown",
   "metadata": {},
   "source": [
    "Now we will construct a two-way contingency table of categorical outcome and pre-\n",
    "dictors we want to make sure there are not 0 cells"
   ]
  },
  {
   "cell_type": "code",
   "execution_count": null,
   "metadata": {
    "collapsed": true
   },
   "outputs": [],
   "source": [
    "table(mydata$admit)\n",
    "#\n",
    "# 0 1\n",
    "#273 127"
   ]
  },
  {
   "cell_type": "code",
   "execution_count": null,
   "metadata": {
    "collapsed": true
   },
   "outputs": [],
   "source": [
    "\n",
    "xtabs(~admit + rank, data = mydata)\n",
    "## rank\n",
    "## admit 1 2 3 4\n",
    "## 0 28 97 93 55\n",
    "## 1 33 54 28 12\n",
    "27"
   ]
  },
  {
   "cell_type": "markdown",
   "metadata": {},
   "source": [
    "### Using the logit model\n",
    "* The code below estimates a logistic regression model using the **``glm()``** (generalized linear\n",
    "model) function.\n",
    "* Importantly, we convert rank to a factor to indicate that rank should be treated as a\n",
    "factor (categorical variable). We dont need to respecify ordering in this case.\n",
    "\n",
    "\n"
   ]
  },
  {
   "cell_type": "code",
   "execution_count": null,
   "metadata": {
    "collapsed": true
   },
   "outputs": [],
   "source": [
    "mydata$rank <- factor(mydata$rank)\n",
    "model1 <- glm(admit ~ gre + gpa + rank,\n",
    "                data = mydata,\n",
    "                family = \"binomial\")"
   ]
  },
  {
   "cell_type": "code",
   "execution_count": null,
   "metadata": {
    "collapsed": true
   },
   "outputs": [],
   "source": [
    "### Using the **``summary()``** function\n",
    "* Since we gave our model a name (\"model1\"), R will not produce any output from our\n",
    "regression.\n",
    "* In order to get the results we use the **``summary()``** command:"
   ]
  },
  {
   "cell_type": "code",
   "execution_count": null,
   "metadata": {
    "collapsed": true
   },
   "outputs": [],
   "source": [
    "summary(model1)\n",
    "# tidy(model1)\n",
    "# glance(model1)"
   ]
  },
  {
   "cell_type": "markdown",
   "metadata": {},
   "source": [
    "### Interpreting the summary output\n",
    "* The \f",
    "rst output we see is the deviance residuals, which are a measure of model \f",
    "t. This\n",
    "part of output shows the distribution of the deviance residuals for individual cases used\n",
    "in the model.\n",
    "Later we discuss how to use summaries of the deviance statistic to assess model \f",
    "t.\n",
    "* The next part of the output shows the coe\u000ecients, their standard errors, the z-statistic\n",
    "(sometimes called a Wald z-statistic), and the associated p-values.\n",
    "* Both gre and gpa are statistically signi\f",
    "cant, as are the three terms for rank. The\n",
    "logistic regression coe\u000ecients give the change in the log odds of the outcome for a one\n",
    "unit increase in the predictor variable.\n",
    "* gre: Similarly, for every one unit change in gre, the log odds of admission (versus\n",
    "non-admission) increases by 0.002.\n",
    "* For a one unit increase in gpa, the log odds of being admitted to graduate school\n",
    "increases by 0.804.\n",
    "* rank The indicator variables for rank have a slightly di\u000b",
    "erent interpretation. For example, having attended an undergraduate institution with rank of 2, versus an institution\n",
    "with a rank of 1, changes the log odds of admission by -0.675.\n",
    "* Below the table of coefficients are fit indices, including the null and deviance residuals\n",
    "and the AIC.\n"
   ]
  },
  {
   "cell_type": "markdown",
   "metadata": {},
   "source": [
    "### Confidence Intervals for Estimates\n",
    "* We can use the confint function to obtain confidence intervals for the coefficient esti-\n",
    "mates.\n",
    "* Note that for logistic models, confidence intervals are based on the profiled log-\n",
    "likelihood function.\n",
    "* We can also get confidence Intervals based on just the standard errors by using the\n",
    "default method."
   ]
  },
  {
   "cell_type": "code",
   "execution_count": null,
   "metadata": {
    "collapsed": true
   },
   "outputs": [],
   "source": [
    "\n",
    "## CIs using profiled log-likelihood\n",
    "confint(model1)\n",
    "## Waiting for profiling to be done...\n",
    "## 2.5 % 97.5 %\n",
    "## (Intercept) -6.271620 -1.79255\n",
    "## gre 0.000138 0.00444\n",
    "## gpa 0.160296 1.46414\n",
    "## rank2 -1.300889 -0.05675\n",
    "## rank3 -2.027671 -0.67037\n",
    "## rank4 -2.400027 -0.75354\n",
    "## CIs using standard errors"
   ]
  },
  {
   "cell_type": "code",
   "execution_count": null,
   "metadata": {
    "collapsed": true
   },
   "outputs": [],
   "source": [
    "\n",
    "confint.default(model1)\n"
   ]
  },
  {
   "cell_type": "markdown",
   "metadata": {},
   "source": [
    "### The Wald Test (aod package)- optional\n",
    "* We can test for an overall effect of rank using the wald.test function of the aod\n",
    "pacakge.\n",
    "* ***aod: Analysis of Overdispersed Data***. This package provides a set of functions to analyse\n",
    "overdispersed counts or proportions\n",
    "* The order in which the coefficients are given in the table of coefficients is the same as\n",
    "the order of the terms in the model. This is important because the **``wald.test()``** function\n",
    "refers to the coefficients by their order in the model. We use the **``wald.test()``** function.\n",
    "* b supplies the coefficients, while Sigma supplies the variance covariance matrix of the\n",
    "error terms, finally Terms tells R which terms in the model are to be tested, in this\n",
    "case, terms 4, 5, and 6, are the three terms for the levels of rank.\n"
   ]
  },
  {
   "cell_type": "code",
   "execution_count": null,
   "metadata": {
    "collapsed": true
   },
   "outputs": [],
   "source": [
    "wald.test(b = coef(model1), Sigma = vcov(model1), Terms = 4:6)\n",
    "## Wald test:\n",
    "## ----------\n",
    "##\n",
    "## Chi-squared test:\n",
    "## X2 = 20.9, df = 3, P(> X2) = 0.00011"
   ]
  },
  {
   "cell_type": "code",
   "execution_count": null,
   "metadata": {
    "collapsed": true
   },
   "outputs": [],
   "source": [
    "\n",
    "\u000f The chi-squared test statistic of 20.9, with three degrees of freedom is associated with a\n",
    "p-value of 0.00011 indicating that the overall e\u000b",
    "ect of rank is statistically signi\f",
    "cant.\n",
    "32"
   ]
  },
  {
   "cell_type": "code",
   "execution_count": null,
   "metadata": {
    "collapsed": true
   },
   "outputs": [],
   "source": [
    "### Odds and Odds Ratio\n",
    "\u000f You can also exponentiate the coe\u000ecients and interpret them as odds-ratios.\n",
    "## odds ratios only\n",
    "exp(coef(model1))\n",
    "## (Intercept) gre gpa rank2 rank3 rank4\n",
    "## 0.0185 1.0023 2.2345 0.5089 0.2618 0.2119\n",
    "\u000f We can use the same idea to get odds ratios and their con\f",
    "dence intervals, by exponen-\n",
    "tiating the con\f",
    "dence intervals from before. To put it all in one table, we use cbind to\n",
    "bind the coe\u000ecients and con\f",
    "dence intervals column-wise."
   ]
  },
  {
   "cell_type": "code",
   "execution_count": null,
   "metadata": {
    "collapsed": true
   },
   "outputs": [],
   "source": [
    "\n",
    "## odds ratios and 95% CI\n",
    "exp(cbind(OR = coef(model1), confint(myodel1)))\n",
    "## Waiting for profiling to be done...\n",
    "## OR 2.5 % 97.5 %\n",
    "## (Intercept) 0.0185 0.00189 0.167\n",
    "## gre 1.0023 1.00014 1.004\n",
    "## gpa 2.2345 1.17386 4.324\n",
    "## rank2 0.5089 0.27229 0.945\n",
    "## rank3 0.2618 0.13164 0.512\n",
    "## rank4 0.2119 0.09072 0.471\n",
    "\n",
    "\n"
   ]
  },
  {
   "cell_type": "code",
   "execution_count": null,
   "metadata": {
    "collapsed": true
   },
   "outputs": [],
   "source": [
    "\u000f Now we can say that for a one unit increase in gpa, the odds of being admitted to\n",
    "graduate school (versus not being admitted) increase by a factor of 2.23. Note that\n",
    "while R produces it, the odds ratio for the intercept is not generally interpreted.\n",
    "33"
   ]
  },
  {
   "cell_type": "code",
   "execution_count": null,
   "metadata": {
    "collapsed": true
   },
   "outputs": [],
   "source": [
    "### Using the Model to make predictions\n",
    "\u000f You can also use predicted probabilities to help you understand the model.\n",
    "\u000f Predicted probabilities can be computed for both categorical and continuous predictor\n",
    "variables.\n",
    "\u000f In order to create predicted probabilities we \f",
    "rst need to create a new data frame with\n",
    "the values we want the independent variables to take on to create our predictions.\n",
    "\u000f We will start by calculating the predicted probability of admission at each value of\n",
    "rank, holding gre and gpa at their means.\n",
    "\u000f First we create and view the data frame.\n"
   ]
  },
  {
   "cell_type": "code",
   "execution_count": null,
   "metadata": {
    "collapsed": true
   },
   "outputs": [],
   "source": [
    "newdata1 <- with(mydata, data.frame(gre = mean(gre),\n",
    "gpa = mean(gpa),\n",
    "rank = factor(1:4)))\n",
    "## view data frame\n",
    "newdata1\n",
    "## gre gpa rank\n",
    "## 1 588 3.39 1\n",
    "## 2 588 3.39 2\n",
    "## 3 588 3.39 3\n",
    "## 4 588 3.39 4"
   ]
  },
  {
   "cell_type": "markdown",
   "metadata": {},
   "source": [
    "* Naming Conventions: These objects must have the same names as the variables in\n",
    "your logistic regression model (e.g. in this example the mean for gre must be named\n",
    "gre).\n",
    "* Now that we have the data frame we want to use to calculate the predicted probabilities,\n",
    "we can tell R to create the predicted probabilities.\n",
    "\n",
    "* The newdata1$rankP tells R that we want to create a new variable in the dataset (data\n",
    "frame) newdata1 called rankP, the rest of the command tells R that the values of rankP\n",
    "should be predictions made using the predict( ) function.\n",
    "* The options within the parentheses specifies that the predictions should be based on\n",
    "the analysis mylogit with values of the predictor variables coming from newdata1 and\n",
    "that the type of prediction is a predicted probability (type=\"response\")."
   ]
  },
  {
   "cell_type": "code",
   "execution_count": null,
   "metadata": {
    "collapsed": true
   },
   "outputs": [],
   "source": [
    "\n",
    "\u000f The second line of the code lists the values in the data frame newdata1."
   ]
  },
  {
   "cell_type": "code",
   "execution_count": null,
   "metadata": {
    "collapsed": true
   },
   "outputs": [],
   "source": [
    "\n",
    "newdata1$rankP <- predict(model1, newdata = newdata1, type = \"response\")\n",
    "newdata1\n",
    "## gre gpa rank rankP\n",
    "## 1 588 3.39 1 0.517\n",
    "## 2 588 3.39 2 0.352\n",
    "## 3 588 3.39 3 0.219\n",
    "## 4 588 3.39 4 0.185\n"
   ]
  },
  {
   "cell_type": "code",
   "execution_count": null,
   "metadata": {
    "collapsed": true
   },
   "outputs": [],
   "source": [
    "### Interpretation\n",
    "In this output we see that the predicted probability of being accepted into a gradu-\n",
    "ate program is 0.52 for students from the highest prestige undergraduate institutions\n",
    "(rank=1), and 0.18 for students from the lowest ranked institutions (rank=4), holding\n",
    "gre and gpa at their means.\n"
   ]
  }
 ],
 "metadata": {
  "kernelspec": {
   "display_name": "R",
   "language": "R",
   "name": "r"
  },
  "language_info": {
   "codemirror_mode": "r",
   "file_extension": ".r",
   "mimetype": "text/x-r-source",
   "name": "R",
   "pygments_lexer": "r",
   "version": "3.4.1"
  }
 },
 "nbformat": 4,
 "nbformat_minor": 2
}
