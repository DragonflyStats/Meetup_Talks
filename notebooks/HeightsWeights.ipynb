{
 "cells": [
  {
   "cell_type": "code",
   "execution_count": 1,
   "metadata": {},
   "outputs": [
    {
     "name": "stderr",
     "output_type": "stream",
     "text": [
      "\n",
      "Attaching package: 'dplyr'\n",
      "\n",
      "The following objects are masked from 'package:stats':\n",
      "\n",
      "    filter, lag\n",
      "\n",
      "The following objects are masked from 'package:base':\n",
      "\n",
      "    intersect, setdiff, setequal, union\n",
      "\n"
     ]
    }
   ],
   "source": [
    "library(ggplot2)\n",
    "library(dplyr)"
   ]
  },
  {
   "cell_type": "code",
   "execution_count": 2,
   "metadata": {
    "collapsed": true
   },
   "outputs": [],
   "source": [
    "dfall <- read.csv('https://raw.githubusercontent.com/RWorkshop/Statistics-With-R-Workshop/master/data/socrHW.csv')\n",
    "\n",
    "df <- sample_frac(dfall,0.3)"
   ]
  },
  {
   "cell_type": "code",
   "execution_count": 3,
   "metadata": {
    "collapsed": true
   },
   "outputs": [],
   "source": [
    "# Calculate Mahalanobis Distance with height and weight distributions\n",
    "m_dist <- mahalanobis(df[, 1:2], colMeans(df[, 1:2]), cov(df[, 1:2]))\n",
    "df$m_dist <- round(m_dist, 2)\n",
    "\n",
    "# Mahalanobis Outliers - Threshold set to 12\n",
    "df$outlier_maha <- \"No\"\n",
    "df$outlier_maha[df$m_dist > 12] <- \"Yes\"\n",
    "\n"
   ]
  },
  {
   "cell_type": "code",
   "execution_count": 4,
   "metadata": {},
   "outputs": [
    {
     "data": {},
     "metadata": {},
     "output_type": "display_data"
    },
    {
     "data": {
      "image/png": "[encoded data removed]",
      "text/plain": [
       "plot without title"
      ]
     },
     "metadata": {},
     "output_type": "display_data"
    }
   ],
   "source": [
    "ggplot(df, aes(x = weight, y = height, color = outlier_maha)) +\n",
    "      geom_point(size = 5, alpha = 0.6)"
   ]
  },
  {
   "cell_type": "code",
   "execution_count": 5,
   "metadata": {
    "collapsed": true
   },
   "outputs": [],
   "source": [
    "# Scatterplot with Maha Outliers\n",
    "p<- ggplot(df, aes(x = weight, y = height, color = outlier_maha)) +\n",
    "      geom_point(size = 5, alpha = 0.6) +\n",
    "      labs(title = \"Weight vs Height\",\n",
    "           subtitle = \"Outlier Detection in weight vs height data - Using Mahalanobis Distances\",\n",
    "           caption = \"Source: http://wiki.stat.ucla.edu/socr/index.php/SOCR_Data_Dinov_020108_HeightsWeights\") +\n",
    "      ylab(\"Height in cm\") + xlab(\"Weight in kg\") +\n",
    "      scale_y_continuous(breaks = seq(160, 200, 5)) +\n",
    "      scale_x_continuous(breaks = seq(35, 80, 5))"
   ]
  },
  {
   "cell_type": "code",
   "execution_count": null,
   "metadata": {},
   "outputs": [],
   "source": []
  },
  {
   "cell_type": "code",
   "execution_count": null,
   "metadata": {
    "collapsed": true
   },
   "outputs": [],
   "source": []
  },
  {
   "cell_type": "code",
   "execution_count": null,
   "metadata": {
    "collapsed": true
   },
   "outputs": [],
   "source": []
  }
 ],
 "metadata": {
  "kernelspec": {
   "display_name": "R",
   "language": "R",
   "name": "r"
  },
  "language_info": {
   "codemirror_mode": "r",
   "file_extension": ".r",
   "mimetype": "text/x-r-source",
   "name": "R",
   "pygments_lexer": "r",
   "version": "3.4.1"
  }
 },
 "nbformat": 4,
 "nbformat_minor": 2
}
